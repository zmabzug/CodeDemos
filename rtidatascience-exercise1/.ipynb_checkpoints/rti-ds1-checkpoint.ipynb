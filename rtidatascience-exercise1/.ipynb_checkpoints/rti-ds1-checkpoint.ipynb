{
 "cells": [
  {
   "cell_type": "markdown",
   "metadata": {},
   "source": [
    "## RTI Center for Data Science - Exercise 1\n",
    "Links to the full instructions and SQLite database can be found [here](https://github.com/rtidatascience/data-scientist-exercise01).\n",
    "\n",
    "Briefly, the goal is to take some census data and use it to predict the probability that a person makes more or less than $50,000/year.\n",
    "\n",
    "First, I'll import some of our go-to libraries, as well as *sqlite3*, which I'll use to connect to our SQLite database. I'll import other libraries later as we need them."
   ]
  },
  {
   "cell_type": "code",
   "execution_count": 1,
   "metadata": {},
   "outputs": [],
   "source": [
    "import sqlite3\n",
    "import pandas as pd\n",
    "import numpy as np\n",
    "\n",
    "conn = sqlite3.connect('./exercise01.sqlite')"
   ]
  },
  {
   "cell_type": "markdown",
   "metadata": {},
   "source": [
    "### Getting data from the database\n",
    "The goal here is to \"flatten\" the database into a single table using various IDs to pull relevant textual information from various supporting tables. There are many ways to do this, but I'm going to leverage pandas' *read_sql_query* function, which helpfully takes a SQL query and outputs it into Python as a DataFrame. I'm going to retain everything in our _records_ table (_SELECT r.*_), and just take the textual information from all of our other tables."
   ]
  },
  {
   "cell_type": "code",
   "execution_count": 2,
   "metadata": {},
   "outputs": [
    {
     "data": {
      "text/html": [
       "<div>\n",
       "<style scoped>\n",
       "    .dataframe tbody tr th:only-of-type {\n",
       "        vertical-align: middle;\n",
       "    }\n",
       "\n",
       "    .dataframe tbody tr th {\n",
       "        vertical-align: top;\n",
       "    }\n",
       "\n",
       "    .dataframe thead th {\n",
       "        text-align: right;\n",
       "    }\n",
       "</style>\n",
       "<table border=\"1\" class=\"dataframe\">\n",
       "  <thead>\n",
       "    <tr style=\"text-align: right;\">\n",
       "      <th></th>\n",
       "      <th>id</th>\n",
       "      <th>age</th>\n",
       "      <th>workclass_id</th>\n",
       "      <th>education_level_id</th>\n",
       "      <th>education_num</th>\n",
       "      <th>marital_status_id</th>\n",
       "      <th>occupation_id</th>\n",
       "      <th>relationship_id</th>\n",
       "      <th>race_id</th>\n",
       "      <th>sex_id</th>\n",
       "      <th>...</th>\n",
       "      <th>hours_week</th>\n",
       "      <th>country_id</th>\n",
       "      <th>over_50k</th>\n",
       "      <th>workclass</th>\n",
       "      <th>education_level</th>\n",
       "      <th>marital_status</th>\n",
       "      <th>occupation</th>\n",
       "      <th>race</th>\n",
       "      <th>sex</th>\n",
       "      <th>country</th>\n",
       "    </tr>\n",
       "  </thead>\n",
       "  <tbody>\n",
       "    <tr>\n",
       "      <th>0</th>\n",
       "      <td>1</td>\n",
       "      <td>39</td>\n",
       "      <td>8</td>\n",
       "      <td>10</td>\n",
       "      <td>13</td>\n",
       "      <td>5</td>\n",
       "      <td>2</td>\n",
       "      <td>2</td>\n",
       "      <td>5</td>\n",
       "      <td>2</td>\n",
       "      <td>...</td>\n",
       "      <td>40</td>\n",
       "      <td>40</td>\n",
       "      <td>0</td>\n",
       "      <td>State-gov</td>\n",
       "      <td>Bachelors</td>\n",
       "      <td>Never-married</td>\n",
       "      <td>Adm-clerical</td>\n",
       "      <td>White</td>\n",
       "      <td>Male</td>\n",
       "      <td>United-States</td>\n",
       "    </tr>\n",
       "    <tr>\n",
       "      <th>1</th>\n",
       "      <td>2</td>\n",
       "      <td>50</td>\n",
       "      <td>7</td>\n",
       "      <td>10</td>\n",
       "      <td>13</td>\n",
       "      <td>3</td>\n",
       "      <td>5</td>\n",
       "      <td>1</td>\n",
       "      <td>5</td>\n",
       "      <td>2</td>\n",
       "      <td>...</td>\n",
       "      <td>13</td>\n",
       "      <td>40</td>\n",
       "      <td>0</td>\n",
       "      <td>Self-emp-not-inc</td>\n",
       "      <td>Bachelors</td>\n",
       "      <td>Married-civ-spouse</td>\n",
       "      <td>Exec-managerial</td>\n",
       "      <td>White</td>\n",
       "      <td>Male</td>\n",
       "      <td>United-States</td>\n",
       "    </tr>\n",
       "    <tr>\n",
       "      <th>2</th>\n",
       "      <td>3</td>\n",
       "      <td>38</td>\n",
       "      <td>5</td>\n",
       "      <td>12</td>\n",
       "      <td>9</td>\n",
       "      <td>1</td>\n",
       "      <td>7</td>\n",
       "      <td>2</td>\n",
       "      <td>5</td>\n",
       "      <td>2</td>\n",
       "      <td>...</td>\n",
       "      <td>40</td>\n",
       "      <td>40</td>\n",
       "      <td>0</td>\n",
       "      <td>Private</td>\n",
       "      <td>HS-grad</td>\n",
       "      <td>Divorced</td>\n",
       "      <td>Handlers-cleaners</td>\n",
       "      <td>White</td>\n",
       "      <td>Male</td>\n",
       "      <td>United-States</td>\n",
       "    </tr>\n",
       "    <tr>\n",
       "      <th>3</th>\n",
       "      <td>4</td>\n",
       "      <td>53</td>\n",
       "      <td>5</td>\n",
       "      <td>2</td>\n",
       "      <td>7</td>\n",
       "      <td>3</td>\n",
       "      <td>7</td>\n",
       "      <td>1</td>\n",
       "      <td>3</td>\n",
       "      <td>2</td>\n",
       "      <td>...</td>\n",
       "      <td>40</td>\n",
       "      <td>40</td>\n",
       "      <td>0</td>\n",
       "      <td>Private</td>\n",
       "      <td>11th</td>\n",
       "      <td>Married-civ-spouse</td>\n",
       "      <td>Handlers-cleaners</td>\n",
       "      <td>Black</td>\n",
       "      <td>Male</td>\n",
       "      <td>United-States</td>\n",
       "    </tr>\n",
       "    <tr>\n",
       "      <th>4</th>\n",
       "      <td>5</td>\n",
       "      <td>28</td>\n",
       "      <td>5</td>\n",
       "      <td>10</td>\n",
       "      <td>13</td>\n",
       "      <td>3</td>\n",
       "      <td>11</td>\n",
       "      <td>6</td>\n",
       "      <td>3</td>\n",
       "      <td>1</td>\n",
       "      <td>...</td>\n",
       "      <td>40</td>\n",
       "      <td>6</td>\n",
       "      <td>0</td>\n",
       "      <td>Private</td>\n",
       "      <td>Bachelors</td>\n",
       "      <td>Married-civ-spouse</td>\n",
       "      <td>Prof-specialty</td>\n",
       "      <td>Black</td>\n",
       "      <td>Female</td>\n",
       "      <td>Cuba</td>\n",
       "    </tr>\n",
       "  </tbody>\n",
       "</table>\n",
       "<p>5 rows × 22 columns</p>\n",
       "</div>"
      ],
      "text/plain": [
       "   id  age  workclass_id  education_level_id  education_num  \\\n",
       "0   1   39             8                  10             13   \n",
       "1   2   50             7                  10             13   \n",
       "2   3   38             5                  12              9   \n",
       "3   4   53             5                   2              7   \n",
       "4   5   28             5                  10             13   \n",
       "\n",
       "   marital_status_id  occupation_id  relationship_id  race_id  sex_id  \\\n",
       "0                  5              2                2        5       2   \n",
       "1                  3              5                1        5       2   \n",
       "2                  1              7                2        5       2   \n",
       "3                  3              7                1        3       2   \n",
       "4                  3             11                6        3       1   \n",
       "\n",
       "       ...        hours_week  country_id  over_50k         workclass  \\\n",
       "0      ...                40          40         0         State-gov   \n",
       "1      ...                13          40         0  Self-emp-not-inc   \n",
       "2      ...                40          40         0           Private   \n",
       "3      ...                40          40         0           Private   \n",
       "4      ...                40           6         0           Private   \n",
       "\n",
       "   education_level      marital_status         occupation   race     sex  \\\n",
       "0        Bachelors       Never-married       Adm-clerical  White    Male   \n",
       "1        Bachelors  Married-civ-spouse    Exec-managerial  White    Male   \n",
       "2          HS-grad            Divorced  Handlers-cleaners  White    Male   \n",
       "3             11th  Married-civ-spouse  Handlers-cleaners  Black    Male   \n",
       "4        Bachelors  Married-civ-spouse     Prof-specialty  Black  Female   \n",
       "\n",
       "         country  \n",
       "0  United-States  \n",
       "1  United-States  \n",
       "2  United-States  \n",
       "3  United-States  \n",
       "4           Cuba  \n",
       "\n",
       "[5 rows x 22 columns]"
      ]
     },
     "execution_count": 2,
     "metadata": {},
     "output_type": "execute_result"
    }
   ],
   "source": [
    "records = pd.read_sql_query(\"\"\"SELECT r.*, w.name AS workclass, e.name AS education_level, \n",
    "                        m.name AS marital_status, o.name AS occupation, ra.name AS race,\n",
    "                        s.name AS sex, c.name AS country                   \n",
    "    FROM records AS r\n",
    "    INNER JOIN workclasses AS w ON r.workclass_id=w.id\n",
    "    INNER JOIN education_levels AS e ON r.education_level_id=e.id\n",
    "    INNER JOIN marital_statuses AS m ON r.marital_status_id=m.id\n",
    "    INNER JOIN occupations AS o ON r.occupation_id=o.id\n",
    "    INNER JOIN races AS ra ON r.race_id=ra.id\n",
    "    INNER JOIN sexes AS s ON r.sex_id=s.id\n",
    "    INNER JOIN countries AS c ON r.country_id=c.id\n",
    "    \"\"\", conn)\n",
    "\n",
    "conn.close()\n",
    "records.head()"
   ]
  },
  {
   "cell_type": "code",
   "execution_count": 3,
   "metadata": {},
   "outputs": [
    {
     "data": {
      "text/html": [
       "<div>\n",
       "<style scoped>\n",
       "    .dataframe tbody tr th:only-of-type {\n",
       "        vertical-align: middle;\n",
       "    }\n",
       "\n",
       "    .dataframe tbody tr th {\n",
       "        vertical-align: top;\n",
       "    }\n",
       "\n",
       "    .dataframe thead th {\n",
       "        text-align: right;\n",
       "    }\n",
       "</style>\n",
       "<table border=\"1\" class=\"dataframe\">\n",
       "  <thead>\n",
       "    <tr style=\"text-align: right;\">\n",
       "      <th></th>\n",
       "      <th>id</th>\n",
       "      <th>age</th>\n",
       "      <th>workclass_id</th>\n",
       "      <th>education_level_id</th>\n",
       "      <th>education_num</th>\n",
       "      <th>marital_status_id</th>\n",
       "      <th>occupation_id</th>\n",
       "      <th>relationship_id</th>\n",
       "      <th>race_id</th>\n",
       "      <th>sex_id</th>\n",
       "      <th>...</th>\n",
       "      <th>hours_week</th>\n",
       "      <th>country_id</th>\n",
       "      <th>over_50k</th>\n",
       "      <th>workclass</th>\n",
       "      <th>education_level</th>\n",
       "      <th>marital_status</th>\n",
       "      <th>occupation</th>\n",
       "      <th>race</th>\n",
       "      <th>sex</th>\n",
       "      <th>country</th>\n",
       "    </tr>\n",
       "  </thead>\n",
       "  <tbody>\n",
       "    <tr>\n",
       "      <th>count</th>\n",
       "      <td>48842.000000</td>\n",
       "      <td>48842.000000</td>\n",
       "      <td>48842.000000</td>\n",
       "      <td>48842.000000</td>\n",
       "      <td>48842.000000</td>\n",
       "      <td>48842.000000</td>\n",
       "      <td>48842.000000</td>\n",
       "      <td>48842.000000</td>\n",
       "      <td>48842.000000</td>\n",
       "      <td>48842.000000</td>\n",
       "      <td>...</td>\n",
       "      <td>48842.000000</td>\n",
       "      <td>48842.000000</td>\n",
       "      <td>48842.000000</td>\n",
       "      <td>48842</td>\n",
       "      <td>48842</td>\n",
       "      <td>48842</td>\n",
       "      <td>48842</td>\n",
       "      <td>48842</td>\n",
       "      <td>48842</td>\n",
       "      <td>48842</td>\n",
       "    </tr>\n",
       "    <tr>\n",
       "      <th>unique</th>\n",
       "      <td>NaN</td>\n",
       "      <td>NaN</td>\n",
       "      <td>NaN</td>\n",
       "      <td>NaN</td>\n",
       "      <td>NaN</td>\n",
       "      <td>NaN</td>\n",
       "      <td>NaN</td>\n",
       "      <td>NaN</td>\n",
       "      <td>NaN</td>\n",
       "      <td>NaN</td>\n",
       "      <td>...</td>\n",
       "      <td>NaN</td>\n",
       "      <td>NaN</td>\n",
       "      <td>NaN</td>\n",
       "      <td>9</td>\n",
       "      <td>16</td>\n",
       "      <td>7</td>\n",
       "      <td>15</td>\n",
       "      <td>5</td>\n",
       "      <td>2</td>\n",
       "      <td>42</td>\n",
       "    </tr>\n",
       "    <tr>\n",
       "      <th>top</th>\n",
       "      <td>NaN</td>\n",
       "      <td>NaN</td>\n",
       "      <td>NaN</td>\n",
       "      <td>NaN</td>\n",
       "      <td>NaN</td>\n",
       "      <td>NaN</td>\n",
       "      <td>NaN</td>\n",
       "      <td>NaN</td>\n",
       "      <td>NaN</td>\n",
       "      <td>NaN</td>\n",
       "      <td>...</td>\n",
       "      <td>NaN</td>\n",
       "      <td>NaN</td>\n",
       "      <td>NaN</td>\n",
       "      <td>Private</td>\n",
       "      <td>HS-grad</td>\n",
       "      <td>Married-civ-spouse</td>\n",
       "      <td>Prof-specialty</td>\n",
       "      <td>White</td>\n",
       "      <td>Male</td>\n",
       "      <td>United-States</td>\n",
       "    </tr>\n",
       "    <tr>\n",
       "      <th>freq</th>\n",
       "      <td>NaN</td>\n",
       "      <td>NaN</td>\n",
       "      <td>NaN</td>\n",
       "      <td>NaN</td>\n",
       "      <td>NaN</td>\n",
       "      <td>NaN</td>\n",
       "      <td>NaN</td>\n",
       "      <td>NaN</td>\n",
       "      <td>NaN</td>\n",
       "      <td>NaN</td>\n",
       "      <td>...</td>\n",
       "      <td>NaN</td>\n",
       "      <td>NaN</td>\n",
       "      <td>NaN</td>\n",
       "      <td>33906</td>\n",
       "      <td>15784</td>\n",
       "      <td>22379</td>\n",
       "      <td>6172</td>\n",
       "      <td>41762</td>\n",
       "      <td>32650</td>\n",
       "      <td>43832</td>\n",
       "    </tr>\n",
       "    <tr>\n",
       "      <th>mean</th>\n",
       "      <td>24421.500000</td>\n",
       "      <td>38.643585</td>\n",
       "      <td>4.870439</td>\n",
       "      <td>11.288420</td>\n",
       "      <td>10.078089</td>\n",
       "      <td>3.618750</td>\n",
       "      <td>7.577700</td>\n",
       "      <td>2.443287</td>\n",
       "      <td>4.668052</td>\n",
       "      <td>1.668482</td>\n",
       "      <td>...</td>\n",
       "      <td>40.422382</td>\n",
       "      <td>37.749355</td>\n",
       "      <td>0.239282</td>\n",
       "      <td>NaN</td>\n",
       "      <td>NaN</td>\n",
       "      <td>NaN</td>\n",
       "      <td>NaN</td>\n",
       "      <td>NaN</td>\n",
       "      <td>NaN</td>\n",
       "      <td>NaN</td>\n",
       "    </tr>\n",
       "    <tr>\n",
       "      <th>std</th>\n",
       "      <td>14099.615261</td>\n",
       "      <td>13.710510</td>\n",
       "      <td>1.464234</td>\n",
       "      <td>3.874492</td>\n",
       "      <td>2.570973</td>\n",
       "      <td>1.507703</td>\n",
       "      <td>4.230509</td>\n",
       "      <td>1.602151</td>\n",
       "      <td>0.845986</td>\n",
       "      <td>0.470764</td>\n",
       "      <td>...</td>\n",
       "      <td>12.391444</td>\n",
       "      <td>7.775343</td>\n",
       "      <td>0.426649</td>\n",
       "      <td>NaN</td>\n",
       "      <td>NaN</td>\n",
       "      <td>NaN</td>\n",
       "      <td>NaN</td>\n",
       "      <td>NaN</td>\n",
       "      <td>NaN</td>\n",
       "      <td>NaN</td>\n",
       "    </tr>\n",
       "    <tr>\n",
       "      <th>min</th>\n",
       "      <td>1.000000</td>\n",
       "      <td>17.000000</td>\n",
       "      <td>1.000000</td>\n",
       "      <td>1.000000</td>\n",
       "      <td>1.000000</td>\n",
       "      <td>1.000000</td>\n",
       "      <td>1.000000</td>\n",
       "      <td>1.000000</td>\n",
       "      <td>1.000000</td>\n",
       "      <td>1.000000</td>\n",
       "      <td>...</td>\n",
       "      <td>1.000000</td>\n",
       "      <td>1.000000</td>\n",
       "      <td>0.000000</td>\n",
       "      <td>NaN</td>\n",
       "      <td>NaN</td>\n",
       "      <td>NaN</td>\n",
       "      <td>NaN</td>\n",
       "      <td>NaN</td>\n",
       "      <td>NaN</td>\n",
       "      <td>NaN</td>\n",
       "    </tr>\n",
       "    <tr>\n",
       "      <th>25%</th>\n",
       "      <td>12211.250000</td>\n",
       "      <td>28.000000</td>\n",
       "      <td>5.000000</td>\n",
       "      <td>10.000000</td>\n",
       "      <td>9.000000</td>\n",
       "      <td>3.000000</td>\n",
       "      <td>4.000000</td>\n",
       "      <td>1.000000</td>\n",
       "      <td>5.000000</td>\n",
       "      <td>1.000000</td>\n",
       "      <td>...</td>\n",
       "      <td>40.000000</td>\n",
       "      <td>40.000000</td>\n",
       "      <td>0.000000</td>\n",
       "      <td>NaN</td>\n",
       "      <td>NaN</td>\n",
       "      <td>NaN</td>\n",
       "      <td>NaN</td>\n",
       "      <td>NaN</td>\n",
       "      <td>NaN</td>\n",
       "      <td>NaN</td>\n",
       "    </tr>\n",
       "    <tr>\n",
       "      <th>50%</th>\n",
       "      <td>24421.500000</td>\n",
       "      <td>37.000000</td>\n",
       "      <td>5.000000</td>\n",
       "      <td>12.000000</td>\n",
       "      <td>10.000000</td>\n",
       "      <td>3.000000</td>\n",
       "      <td>8.000000</td>\n",
       "      <td>2.000000</td>\n",
       "      <td>5.000000</td>\n",
       "      <td>2.000000</td>\n",
       "      <td>...</td>\n",
       "      <td>40.000000</td>\n",
       "      <td>40.000000</td>\n",
       "      <td>0.000000</td>\n",
       "      <td>NaN</td>\n",
       "      <td>NaN</td>\n",
       "      <td>NaN</td>\n",
       "      <td>NaN</td>\n",
       "      <td>NaN</td>\n",
       "      <td>NaN</td>\n",
       "      <td>NaN</td>\n",
       "    </tr>\n",
       "    <tr>\n",
       "      <th>75%</th>\n",
       "      <td>36631.750000</td>\n",
       "      <td>48.000000</td>\n",
       "      <td>5.000000</td>\n",
       "      <td>13.000000</td>\n",
       "      <td>12.000000</td>\n",
       "      <td>5.000000</td>\n",
       "      <td>11.000000</td>\n",
       "      <td>4.000000</td>\n",
       "      <td>5.000000</td>\n",
       "      <td>2.000000</td>\n",
       "      <td>...</td>\n",
       "      <td>45.000000</td>\n",
       "      <td>40.000000</td>\n",
       "      <td>0.000000</td>\n",
       "      <td>NaN</td>\n",
       "      <td>NaN</td>\n",
       "      <td>NaN</td>\n",
       "      <td>NaN</td>\n",
       "      <td>NaN</td>\n",
       "      <td>NaN</td>\n",
       "      <td>NaN</td>\n",
       "    </tr>\n",
       "    <tr>\n",
       "      <th>max</th>\n",
       "      <td>48842.000000</td>\n",
       "      <td>90.000000</td>\n",
       "      <td>9.000000</td>\n",
       "      <td>16.000000</td>\n",
       "      <td>16.000000</td>\n",
       "      <td>7.000000</td>\n",
       "      <td>15.000000</td>\n",
       "      <td>6.000000</td>\n",
       "      <td>5.000000</td>\n",
       "      <td>2.000000</td>\n",
       "      <td>...</td>\n",
       "      <td>99.000000</td>\n",
       "      <td>42.000000</td>\n",
       "      <td>1.000000</td>\n",
       "      <td>NaN</td>\n",
       "      <td>NaN</td>\n",
       "      <td>NaN</td>\n",
       "      <td>NaN</td>\n",
       "      <td>NaN</td>\n",
       "      <td>NaN</td>\n",
       "      <td>NaN</td>\n",
       "    </tr>\n",
       "  </tbody>\n",
       "</table>\n",
       "<p>11 rows × 22 columns</p>\n",
       "</div>"
      ],
      "text/plain": [
       "                  id           age  workclass_id  education_level_id  \\\n",
       "count   48842.000000  48842.000000  48842.000000        48842.000000   \n",
       "unique           NaN           NaN           NaN                 NaN   \n",
       "top              NaN           NaN           NaN                 NaN   \n",
       "freq             NaN           NaN           NaN                 NaN   \n",
       "mean    24421.500000     38.643585      4.870439           11.288420   \n",
       "std     14099.615261     13.710510      1.464234            3.874492   \n",
       "min         1.000000     17.000000      1.000000            1.000000   \n",
       "25%     12211.250000     28.000000      5.000000           10.000000   \n",
       "50%     24421.500000     37.000000      5.000000           12.000000   \n",
       "75%     36631.750000     48.000000      5.000000           13.000000   \n",
       "max     48842.000000     90.000000      9.000000           16.000000   \n",
       "\n",
       "        education_num  marital_status_id  occupation_id  relationship_id  \\\n",
       "count    48842.000000       48842.000000   48842.000000     48842.000000   \n",
       "unique            NaN                NaN            NaN              NaN   \n",
       "top               NaN                NaN            NaN              NaN   \n",
       "freq              NaN                NaN            NaN              NaN   \n",
       "mean        10.078089           3.618750       7.577700         2.443287   \n",
       "std          2.570973           1.507703       4.230509         1.602151   \n",
       "min          1.000000           1.000000       1.000000         1.000000   \n",
       "25%          9.000000           3.000000       4.000000         1.000000   \n",
       "50%         10.000000           3.000000       8.000000         2.000000   \n",
       "75%         12.000000           5.000000      11.000000         4.000000   \n",
       "max         16.000000           7.000000      15.000000         6.000000   \n",
       "\n",
       "             race_id        sex_id      ...          hours_week    country_id  \\\n",
       "count   48842.000000  48842.000000      ...        48842.000000  48842.000000   \n",
       "unique           NaN           NaN      ...                 NaN           NaN   \n",
       "top              NaN           NaN      ...                 NaN           NaN   \n",
       "freq             NaN           NaN      ...                 NaN           NaN   \n",
       "mean        4.668052      1.668482      ...           40.422382     37.749355   \n",
       "std         0.845986      0.470764      ...           12.391444      7.775343   \n",
       "min         1.000000      1.000000      ...            1.000000      1.000000   \n",
       "25%         5.000000      1.000000      ...           40.000000     40.000000   \n",
       "50%         5.000000      2.000000      ...           40.000000     40.000000   \n",
       "75%         5.000000      2.000000      ...           45.000000     40.000000   \n",
       "max         5.000000      2.000000      ...           99.000000     42.000000   \n",
       "\n",
       "            over_50k  workclass  education_level      marital_status  \\\n",
       "count   48842.000000      48842            48842               48842   \n",
       "unique           NaN          9               16                   7   \n",
       "top              NaN    Private          HS-grad  Married-civ-spouse   \n",
       "freq             NaN      33906            15784               22379   \n",
       "mean        0.239282        NaN              NaN                 NaN   \n",
       "std         0.426649        NaN              NaN                 NaN   \n",
       "min         0.000000        NaN              NaN                 NaN   \n",
       "25%         0.000000        NaN              NaN                 NaN   \n",
       "50%         0.000000        NaN              NaN                 NaN   \n",
       "75%         0.000000        NaN              NaN                 NaN   \n",
       "max         1.000000        NaN              NaN                 NaN   \n",
       "\n",
       "            occupation   race    sex        country  \n",
       "count            48842  48842  48842          48842  \n",
       "unique              15      5      2             42  \n",
       "top     Prof-specialty  White   Male  United-States  \n",
       "freq              6172  41762  32650          43832  \n",
       "mean               NaN    NaN    NaN            NaN  \n",
       "std                NaN    NaN    NaN            NaN  \n",
       "min                NaN    NaN    NaN            NaN  \n",
       "25%                NaN    NaN    NaN            NaN  \n",
       "50%                NaN    NaN    NaN            NaN  \n",
       "75%                NaN    NaN    NaN            NaN  \n",
       "max                NaN    NaN    NaN            NaN  \n",
       "\n",
       "[11 rows x 22 columns]"
      ]
     },
     "execution_count": 3,
     "metadata": {},
     "output_type": "execute_result"
    }
   ],
   "source": [
    "records.describe(include='all')"
   ]
  },
  {
   "cell_type": "markdown",
   "metadata": {},
   "source": [
    "### Explore the data!\n",
    "Step 1: explore the data! First, I'll look at the correlation structure (which will ignore the text inputs). I'll pay special attention to which variables are correlated with the target variables, *over_50k*."
   ]
  },
  {
   "cell_type": "code",
   "execution_count": 4,
   "metadata": {},
   "outputs": [
    {
     "data": {
      "image/png": "[encoded data removed]",
      "text/plain": [
       "<matplotlib.figure.Figure at 0x1069a34a8>"
      ]
     },
     "metadata": {},
     "output_type": "display_data"
    }
   ],
   "source": [
    "# look at correlation structure\n",
    "%matplotlib inline\n",
    "import seaborn as sns\n",
    "import matplotlib.pyplot as plt\n",
    "\n",
    "corr = records.corr()\n",
    "_ , ax = plt.subplots( figsize =( 12 , 10 ) )\n",
    "cmap = sns.diverging_palette( 220 , 10 , as_cmap = True )\n",
    "_ = sns.heatmap(\n",
    "    corr, \n",
    "    cmap = cmap,\n",
    "    square=True, \n",
    "    cbar_kws={ 'shrink' : .9 }, \n",
    "    ax=ax\n",
    ")"
   ]
  },
  {
   "cell_type": "code",
   "execution_count": 5,
   "metadata": {},
   "outputs": [
    {
     "data": {
      "text/plain": [
       "id                     int64\n",
       "age                    int64\n",
       "workclass_id           int64\n",
       "education_level_id     int64\n",
       "education_num          int64\n",
       "marital_status_id      int64\n",
       "occupation_id          int64\n",
       "relationship_id        int64\n",
       "race_id                int64\n",
       "sex_id                 int64\n",
       "capital_gain           int64\n",
       "capital_loss           int64\n",
       "hours_week             int64\n",
       "country_id             int64\n",
       "over_50k               int64\n",
       "workclass             object\n",
       "education_level       object\n",
       "marital_status        object\n",
       "occupation            object\n",
       "race                  object\n",
       "sex                   object\n",
       "country               object\n",
       "dtype: object"
      ]
     },
     "execution_count": 5,
     "metadata": {},
     "output_type": "execute_result"
    }
   ],
   "source": [
    "# what are the dtypes of each variable?\n",
    "records.dtypes"
   ]
  },
  {
   "cell_type": "markdown",
   "metadata": {},
   "source": [
    "### Prepare data for model fitting\n",
    "When I want to eventually fit a model to the dataset, I'll need to use dummy coding to represent the categorical variables. Here, I'm putting all of the numerical data into one DataFrame, putting all of my object (i.e., categorical) data into a second DataFrame, and verifying that there are no other types of data that I'm missing."
   ]
  },
  {
   "cell_type": "code",
   "execution_count": 6,
   "metadata": {},
   "outputs": [
    {
     "data": {
      "text/plain": [
       "(48842, 0)"
      ]
     },
     "execution_count": 6,
     "metadata": {},
     "output_type": "execute_result"
    }
   ],
   "source": [
    "records_num = records.select_dtypes(include=['float64', 'int64'])\n",
    "records_cat = records.select_dtypes(include=['object'])\n",
    "records_other = records.select_dtypes(exclude=['object', 'float64', 'int64'])\n",
    "records_other.shape"
   ]
  },
  {
   "cell_type": "markdown",
   "metadata": {},
   "source": [
    "I can use the _groupby_ function to look at how the target variable changes across the categorical variables. I can potentially use this later to consolidate some of these categories. I'll occasionally find _?_ entries: these come from the SQL database and represent unknown data. I may want to go back and replace these with the category modes later on."
   ]
  },
  {
   "cell_type": "code",
   "execution_count": 7,
   "metadata": {},
   "outputs": [
    {
     "data": {
      "text/plain": [
       "workclass\n",
       "?                   0.094677\n",
       "Federal-gov         0.391760\n",
       "Local-gov           0.295599\n",
       "Never-worked        0.000000\n",
       "Private             0.217867\n",
       "Self-emp-inc        0.553392\n",
       "Self-emp-not-inc    0.278871\n",
       "State-gov           0.267542\n",
       "Without-pay         0.095238\n",
       "Name: over_50k, dtype: float64"
      ]
     },
     "execution_count": 7,
     "metadata": {},
     "output_type": "execute_result"
    }
   ],
   "source": [
    "# for example, let's look at how workclass affects earnings\n",
    "records.groupby(['workclass']).mean()['over_50k']"
   ]
  },
  {
   "cell_type": "code",
   "execution_count": 8,
   "metadata": {},
   "outputs": [],
   "source": [
    "# iterate through our categorical variables and dummy code them\n",
    "dummy = pd.DataFrame()\n",
    "for i, var_name in enumerate(records_cat):\n",
    "    newvar = pd.get_dummies(records_cat[var_name], prefix=var_name)\n",
    "    dummy = pd.concat([dummy,newvar], axis=1)"
   ]
  },
  {
   "cell_type": "code",
   "execution_count": 9,
   "metadata": {},
   "outputs": [
    {
     "data": {
      "text/plain": [
       "(48842, 111)"
      ]
     },
     "execution_count": 9,
     "metadata": {},
     "output_type": "execute_result"
    }
   ],
   "source": [
    "# combine our numerical and dummy-coded data. look how many more features we have now!\n",
    "data = pd.concat([records_num, dummy], axis=1)\n",
    "data.shape"
   ]
  },
  {
   "cell_type": "markdown",
   "metadata": {},
   "source": [
    "Now that I've dummy-coded our categorical data, I can split the whole dataset into a training set and testing set. If I do any sort of feature engineering or any other manipulations to our data, I'll need to either re-split my data or insert those cells above here and run the whole notebook again."
   ]
  },
  {
   "cell_type": "code",
   "execution_count": 10,
   "metadata": {},
   "outputs": [
    {
     "name": "stderr",
     "output_type": "stream",
     "text": [
      "/Users/zacharyabzug/anaconda3/lib/python3.6/site-packages/sklearn/model_selection/_split.py:2026: FutureWarning: From version 0.21, test_size will always complement train_size unless both are specified.\n",
      "  FutureWarning)\n"
     ]
    }
   ],
   "source": [
    "from sklearn.model_selection import train_test_split\n",
    "\n",
    "test = data['over_50k']\n",
    "train = data.drop(['over_50k'], axis=1)\n",
    "\n",
    "train_X, test_X, train_y, test_y = train_test_split(train, test, train_size=0.7)\n",
    "\n",
    "# for reproducible results, pick a random_state\n",
    "# train_X, test_X, train_y, test_y = train_test_split(train, test, train_size=0.7, random_state=4)"
   ]
  },
  {
   "cell_type": "code",
   "execution_count": 11,
   "metadata": {},
   "outputs": [
    {
     "data": {
      "text/plain": [
       "(34189,)"
      ]
     },
     "execution_count": 11,
     "metadata": {},
     "output_type": "execute_result"
    }
   ],
   "source": [
    "train_y.shape"
   ]
  },
  {
   "cell_type": "markdown",
   "metadata": {},
   "source": [
    "### Run a model!\n",
    "I'm going to start with the simplest way to predict binary data: logistic regression. This will represent the benchmark to which I'll compare all further testing. If I implement any feature engineering, bagging, boosting, leastic nets, whatever!, I want to have a higher prediction accuracy on the held-out test set."
   ]
  },
  {
   "cell_type": "code",
   "execution_count": 12,
   "metadata": {},
   "outputs": [
    {
     "name": "stdout",
     "output_type": "stream",
     "text": [
      "0.8402117640176665 0.8443322186582952\n"
     ]
    }
   ],
   "source": [
    "from sklearn.linear_model import LogisticRegression\n",
    "mdl = LogisticRegression()\n",
    "mdl.fit(train_X, train_y)\n",
    "train_acc = mdl.score(train_X, train_y)\n",
    "test_acc = mdl.score(test_X, test_y)\n",
    "\n",
    "print(train_acc, test_acc)\n"
   ]
  },
  {
   "cell_type": "markdown",
   "metadata": {},
   "source": [
    "The scores here are the classification accuracies for each observation. Our testing accuracy is 84%, which ain't half bad, especially for our simplest model! Somewhat surprisingly, our testing accuracy is even slightly higher than our training accuracy. Keep in mind, though, since our training and testing splits will be different every time the notebook is run, these numbers will change slightly. We can use the *random_state* input to *train_test_split* to get reproducible results: with *random_state = 4*, I got a training accuracy of 83.939% and a testing accuracy of 84.065%.\n",
    "\n",
    "I'm going to dive down into these model fits a little bit. In particular, I'm going to look at how the model's coefficients are related to each predictor's correlation with *over_50k*."
   ]
  },
  {
   "cell_type": "code",
   "execution_count": 13,
   "metadata": {},
   "outputs": [],
   "source": [
    "corr2 = data.corr()\n",
    "corrslice = corr2['over_50k'].drop(['over_50k'])\n",
    "\n",
    "coefs = np.concatenate(mdl.coef_)"
   ]
  },
  {
   "cell_type": "code",
   "execution_count": 14,
   "metadata": {},
   "outputs": [
    {
     "data": {
      "text/plain": [
       "Text(0,0.5,'Regression Coefficient')"
      ]
     },
     "execution_count": 14,
     "metadata": {},
     "output_type": "execute_result"
    },
    {
     "data": {
      "image/png": "[encoded data removed]",
      "text/plain": [
       "<matplotlib.figure.Figure at 0x1a14657f60>"
      ]
     },
     "metadata": {},
     "output_type": "display_data"
    }
   ],
   "source": [
    "sns.set_style('darkgrid')\n",
    "plt.plot(corrslice, coefs, 'k.')\n",
    "plt.xlabel('Correlation w/ over_50k')\n",
    "plt.ylabel('Regression Coefficient')"
   ]
  },
  {
   "cell_type": "markdown",
   "metadata": {},
   "source": [
    "### Refine the model!\n",
    "Now that I have an initial model, how can I refine it further? Based on the virtually identical training and testing accuracies, it seems like I can make the model more complex (i.e., we aren't overfitting to our training set). Since sklearn makes it so easy to train and run different models, I'm going to try a few more out before we worry about feature engineering. I'll start with other simple models and then progress to some ensemble models.\n",
    "\n",
    "#### \"Simple\" models to start with:\n",
    "- Logistic Regression - 84.06%\n",
    "- **Support Vector Classifier**\n",
    "- K-Nearest Neighbors\n",
    "- Decision Tree\n",
    "- Naive Bayes"
   ]
  },
  {
   "cell_type": "code",
   "execution_count": 16,
   "metadata": {},
   "outputs": [],
   "source": [
    "## support vector classifier - takes a very long time, I don't recommend running this\n",
    "#from sklearn.svm import SVC\n",
    "#mdl = SVC(kernel='linear')\n",
    "#mdl.fit(train_X, train_y)\n",
    "#train_acc = mdl.score(train_X, train_y)\n",
    "#test_acc = mdl.score(test_X, test_y)\n",
    "\n",
    "#print(train_acc, test_acc)"
   ]
  },
  {
   "cell_type": "markdown",
   "metadata": {},
   "source": [
    "SVC is currently being too slow to run this dataset with ~100 predictors and tens of thousands of observations. Maybe I'll try it again later when I have a better internet connection or I can't just let my computer run for a while. Onto K-Nearest Neighbors!\n",
    "\n",
    "#### \"Simple\" models to start with:\n",
    "- Logistic Regression - 84.06%\n",
    "- Support Vector Classifier - DNF\n",
    "- **K-Nearest Neighbors**\n",
    "- Decision Tree\n",
    "- Naive Bayes"
   ]
  },
  {
   "cell_type": "code",
   "execution_count": 23,
   "metadata": {},
   "outputs": [],
   "source": [
    "# how many neighbors to pick? let's use cross validation to figure it out!\n",
    "# using some help from https://kevinzakka.github.io/2016/07/13/k-nearest-neighbor/\n",
    "\n",
    "from sklearn.neighbors import KNeighborsClassifier\n",
    "from sklearn.model_selection import cross_val_score\n",
    "\n",
    "# creating odd list of K for KNN\n",
    "myList = list(range(1,50))\n",
    "\n",
    "# subsetting just the odd ones\n",
    "neighbors = list(filter(lambda x: x % 2 != 0, myList))\n",
    "\n",
    "# empty list that will hold cv scores\n",
    "cv_scores = []\n",
    "\n",
    "# perform 5-fold cross validation\n",
    "for k in neighbors:\n",
    "    mdl = KNeighborsClassifier(n_neighbors=k)\n",
    "    scores = cross_val_score(mdl, train_X, train_y, cv=5, scoring='accuracy')\n",
    "    cv_scores.append(scores.mean())"
   ]
  },
  {
   "cell_type": "code",
   "execution_count": 47,
   "metadata": {},
   "outputs": [
    {
     "name": "stdout",
     "output_type": "stream",
     "text": [
      "The best number of neighbors is 29\n"
     ]
    }
   ],
   "source": [
    "# find the number of neighbors that led to best performance\n",
    "best_k = neighbors[cv_scores.index(max(cv_scores))]\n",
    "print(\"The best number of neighbors is\", best_k)\n"
   ]
  },
  {
   "cell_type": "code",
   "execution_count": 48,
   "metadata": {},
   "outputs": [
    {
     "name": "stdout",
     "output_type": "stream",
     "text": [
      "0.8060779782971131 0.8041356718760664\n"
     ]
    }
   ],
   "source": [
    "# now I'll evaluate the test set using the best_k nearest neighbors\n",
    "mdl = KNeighborsClassifier(n_neighbors=best_k)\n",
    "mdl.fit(train_X, train_y)\n",
    "train_acc = mdl.score(train_X, train_y)\n",
    "test_acc = mdl.score(test_X, test_y)\n",
    "\n",
    "print(train_acc, test_acc)"
   ]
  },
  {
   "cell_type": "markdown",
   "metadata": {},
   "source": [
    "K-Nearest Neighbors doesn't seem to be working as well as logistic regression did (the cross-validation takes a while too). This shouldn't be all that surprising because so many of our features are binary variables. Those binary predictors don't carry very much information in a KNN because there are only two possible values. On to the next one: decision trees!\n",
    "\n",
    "#### \"Simple\" models to start with:\n",
    "- Logistic Regression - 84.06%\n",
    "- Support Vector Classifier - DNF\n",
    "- K-Nearest Neighbors (k=29) - 80.4%\n",
    "- **Decision Tree**\n",
    "- Naive Bayes"
   ]
  },
  {
   "cell_type": "code",
   "execution_count": 52,
   "metadata": {},
   "outputs": [
    {
     "name": "stdout",
     "output_type": "stream",
     "text": [
      "The best tree depth is 29\n"
     ]
    }
   ],
   "source": [
    "# we'll again use cross-validation here to determine a parameter: max_depth, which controls tree size (and complexity)\n",
    "from sklearn.tree import DecisionTreeClassifier\n",
    "\n",
    "cv_scores = []\n",
    "depth = list(range(3,20))\n",
    "\n",
    "for k in depth:\n",
    "    mdl = DecisionTreeClassifier(max_depth=k)\n",
    "    scores = cross_val_score(mdl, train_X, train_y, cv=5, scoring='accuracy')\n",
    "    cv_scores.append(scores.mean())\n",
    "    \n",
    "best_depth = depth[cv_scores.index(max(cv_scores))]\n",
    "print(\"The best tree depth is\", best_depth)"
   ]
  },
  {
   "cell_type": "code",
   "execution_count": 55,
   "metadata": {},
   "outputs": [
    {
     "name": "stdout",
     "output_type": "stream",
     "text": [
      "0.8673549972213285 0.8599604176619122\n"
     ]
    }
   ],
   "source": [
    "# now I'll evaluate the test set using the best_k nearest neighbors\n",
    "mdl = DecisionTreeClassifier(max_depth=best_depth)\n",
    "mdl.fit(train_X, train_y)\n",
    "train_acc = mdl.score(train_X, train_y)\n",
    "test_acc = mdl.score(test_X, test_y)\n",
    "\n",
    "print(train_acc, test_acc)"
   ]
  },
  {
   "cell_type": "markdown",
   "metadata": {},
   "source": [
    "Even better than logistic regression! (By a small margin, at least.) The difference between the training and testing errors is still pretty small, so an ensemble approach might be even better. If a decision tree seems like it will be the best solution, though, we can use *GridSearchCV* to test the parameter space more expansively. Last but not least in our \"simple\" model category: Naive Bayes.\n",
    "\n",
    "#### \"Simple\" models to start with:\n",
    "- Logistic Regression - 84.06%\n",
    "- Support Vector Classifier - DNF\n",
    "- K-Nearest Neighbors (k=29) - 80.4%\n",
    "- Decision Tree - 86.0%\n",
    "- **Naive Bayes**"
   ]
  },
  {
   "cell_type": "code",
   "execution_count": 56,
   "metadata": {},
   "outputs": [
    {
     "name": "stdout",
     "output_type": "stream",
     "text": [
      "0.8273421275848958 0.8275438476762438\n"
     ]
    }
   ],
   "source": [
    "# try Gaussian Naive Bayes, although it may not work well because of all of our binary predictors\n",
    "from sklearn.naive_bayes import GaussianNB\n",
    "\n",
    "mdl = GaussianNB()\n",
    "mdl.fit(train_X, train_y)\n",
    "\n",
    "train_acc = mdl.score(train_X, train_y)\n",
    "test_acc = mdl.score(test_X, test_y)\n",
    "\n",
    "print(train_acc, test_acc)"
   ]
  },
  {
   "cell_type": "markdown",
   "metadata": {},
   "source": [
    "NB did alright, not great, as we expected.\n",
    "\n",
    "#### \"Simple\" models to start with:\n",
    "- Logistic Regression - 84.06%\n",
    "- Support Vector Classifier - DNF\n",
    "- K-Nearest Neighbors (k=29) - 80.4%\n",
    "- Decision Tree - 86.0%\n",
    "- Naive Bayes - 82.7%\n",
    "\n",
    "Now I'll try out a few ensemble methods. Many of these utilize combinations of decision trees in order to increase accuracy, but they are also more prone to overfitting. I'll start out with the classic AdaBoost.\n",
    "\n",
    "#### Ensemble models to start with:\n",
    "- **AdaBoost**\n",
    "- Random Forest\n",
    "- Gradient Tree Boosting"
   ]
  },
  {
   "cell_type": "code",
   "execution_count": 57,
   "metadata": {},
   "outputs": [
    {
     "name": "stdout",
     "output_type": "stream",
     "text": [
      "0.8651028108455936 0.8676721490479765\n"
     ]
    }
   ],
   "source": [
    "# I'll start with 100 estimators\n",
    "from sklearn.ensemble import AdaBoostClassifier\n",
    "\n",
    "mdl = AdaBoostClassifier(n_estimators=100)\n",
    "mdl.fit(train_X, train_y)\n",
    "train_acc = mdl.score(train_X, train_y)\n",
    "test_acc = mdl.score(test_X, test_y)\n",
    "\n",
    "print(train_acc, test_acc)"
   ]
  },
  {
   "cell_type": "code",
   "execution_count": 82,
   "metadata": {},
   "outputs": [
    {
     "data": {
      "text/plain": [
       "Text(0,0.5,'test_acc')"
      ]
     },
     "execution_count": 82,
     "metadata": {},
     "output_type": "execute_result"
    },
    {
     "data": {
      "image/png": "[encoded data removed]",
      "text/plain": [
       "<matplotlib.figure.Figure at 0x1a152054a8>"
      ]
     },
     "metadata": {},
     "output_type": "display_data"
    }
   ],
   "source": [
    "# prediction is pretty good! let's see how it changes as a function of iteration number\n",
    "scores = list(mdl.staged_score(test_X, test_y))\n",
    "plt.plot(range(1,101),scores)\n",
    "plt.xlabel('n_estimators')\n",
    "plt.ylabel('test_acc')"
   ]
  },
  {
   "cell_type": "code",
   "execution_count": 87,
   "metadata": {},
   "outputs": [
    {
     "name": "stdout",
     "output_type": "stream",
     "text": [
      "0.8736435695691597 0.8727223094246912\n"
     ]
    }
   ],
   "source": [
    "# what about with a ton of estimators?\n",
    "mdl = AdaBoostClassifier(n_estimators=1000)\n",
    "mdl.fit(train_X, train_y)\n",
    "train_acc = mdl.score(train_X, train_y)\n",
    "test_acc = mdl.score(test_X, test_y)\n",
    "\n",
    "print(train_acc, test_acc)"
   ]
  },
  {
   "cell_type": "code",
   "execution_count": 88,
   "metadata": {},
   "outputs": [
    {
     "data": {
      "text/plain": [
       "Text(0,0.5,'test_acc')"
      ]
     },
     "execution_count": 88,
     "metadata": {},
     "output_type": "execute_result"
    },
    {
     "data": {
      "image/png": "[encoded data removed]",
      "text/plain": [
       "<matplotlib.figure.Figure at 0x1a15323828>"
      ]
     },
     "metadata": {},
     "output_type": "display_data"
    }
   ],
   "source": [
    "# we can do a little bit better, but prediction accuracy has all but saturated\n",
    "scores = list(mdl.staged_score(test_X, test_y))\n",
    "plt.plot(range(1,1001),scores)\n",
    "plt.xlabel('n_estimators')\n",
    "plt.ylabel('test_acc')"
   ]
  },
  {
   "cell_type": "markdown",
   "metadata": {},
   "source": [
    "#### Ensemble models to start with:\n",
    "- AdaBoost - 87.2%\n",
    "- **Random Forest**\n",
    "- Gradient Tree Boosting"
   ]
  },
  {
   "cell_type": "markdown",
   "metadata": {},
   "source": [
    "I'm impatient so I'm skipping to gradient tree boosting for now, and will come back to random forests later!\n",
    "\n",
    "#### Ensemble models to start with:\n",
    "- AdaBoost - 87.2%\n",
    "- Random Forest - ??\n",
    "- **Gradient Tree Boosting**"
   ]
  },
  {
   "cell_type": "code",
   "execution_count": 90,
   "metadata": {},
   "outputs": [
    {
     "name": "stdout",
     "output_type": "stream",
     "text": [
      "0.8949369680306531 0.8725858186036989\n"
     ]
    }
   ],
   "source": [
    "from sklearn.ensemble import GradientBoostingClassifier\n",
    "\n",
    "mdl = GradientBoostingClassifier(n_estimators=1000)\n",
    "mdl.fit(train_X, train_y)\n",
    "train_acc = mdl.score(train_X, train_y)\n",
    "test_acc = mdl.score(test_X, test_y)\n",
    "\n",
    "print(train_acc, test_acc)"
   ]
  },
  {
   "cell_type": "code",
   "execution_count": 100,
   "metadata": {},
   "outputs": [
    {
     "name": "stdout",
     "output_type": "stream",
     "text": [
      "0.8755203712550331\n"
     ]
    },
    {
     "data": {
      "image/png": "[encoded data removed]",
      "text/plain": [
       "<matplotlib.figure.Figure at 0x1a174b1780>"
      ]
     },
     "metadata": {},
     "output_type": "display_data"
    }
   ],
   "source": [
    "# again, check test_acc as a function of n_estimators\n",
    "from sklearn.metrics import accuracy_score\n",
    "scores = []\n",
    "predictions = list(mdl.staged_predict(test_X))\n",
    "for k in predictions:\n",
    "    scores.append(accuracy_score(k,test_y))\n",
    "\n",
    "plt.plot(range(1,1001),scores)\n",
    "plt.xlabel('n_estimators')\n",
    "plt.ylabel('test_acc')\n"
   ]
  },
  {
   "cell_type": "code",
   "execution_count": 102,
   "metadata": {},
   "outputs": [
    {
     "name": "stdout",
     "output_type": "stream",
     "text": [
      "0.8755203712550331 579\n"
     ]
    }
   ],
   "source": [
    "print(max(scores), scores.index(max(scores)))"
   ]
  },
  {
   "cell_type": "code",
   "execution_count": null,
   "metadata": {},
   "outputs": [],
   "source": []
  }
 ],
 "metadata": {
  "kernelspec": {
   "display_name": "Python 3",
   "language": "python",
   "name": "python3"
  },
  "language_info": {
   "codemirror_mode": {
    "name": "ipython",
    "version": 3
   },
   "file_extension": ".py",
   "mimetype": "text/x-python",
   "name": "python",
   "nbconvert_exporter": "python",
   "pygments_lexer": "ipython3",
   "version": "3.6.4"
  }
 },
 "nbformat": 4,
 "nbformat_minor": 2
}
